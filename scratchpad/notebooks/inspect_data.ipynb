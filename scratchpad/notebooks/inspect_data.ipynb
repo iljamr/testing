{
 "cells": [
  {
   "cell_type": "markdown",
   "id": "6612f1af",
   "metadata": {},
   "source": [
    "# View npy\n",
    "This is just to see whats in the LMNet pre-processed example"
   ]
  },
  {
   "cell_type": "code",
   "execution_count": null,
   "id": "6e9bfaae",
   "metadata": {},
   "outputs": [],
   "source": [
    "import numpy as np\n",
    "import matplotlib.pyplot as plt\n",
    "\n",
    "\n",
    "def show_npy(npy_path: str, title: str = None):\n",
    "    data = np.load(npy_path)\n",
    "    plt.imshow(data)\n",
    "    plt.title(title)\n",
    "    plt.show()\n",
    "\n",
    "\n",
    "paths = (\n",
    "    (\n",
    "        \"depth\",\n",
    "        \"/Users/ilja/School/TQDT33/code/data/kitti/lmnet/pre-process-07/training/depth/000000.npy\",\n",
    "    ),\n",
    "    (\n",
    "        \"normal\",\n",
    "        \"/Users/ilja/School/TQDT33/code/data/kitti/lmnet/pre-process-07/training/normal/000000.npy\",\n",
    "    ),\n",
    "    (\n",
    "        \"motionbev1\",\n",
    "        \"/Users/ilja/School/TQDT33/code/data/kitti/motionbev/residual-polar-sequential-480-360/08/residual_images/000000.npy\",\n",
    "    ),\n",
    "    (\n",
    "        \"motionbev2\",\n",
    "        \"/Users/ilja/School/TQDT33/code/data/kitti/motionbev/residual-polar-sequential-480-360/08/residual_images/001927.npy\",\n",
    "    ),\n",
    "    # (\"toy_residual1\", \"/Users/ilja/School/TQDT33/code/data/kitti/toykitty/08/residual_images_1/001000.npy\"),\n",
    "    # (\"toy_residual2\", \"/Users/ilja/School/TQDT33/code/data/kitti/toykitty/08/residual_images_1/002000.npy\")\n",
    ")\n",
    "\n",
    "for title, path in paths:\n",
    "    show_npy(path, title)"
   ]
  },
  {
   "cell_type": "code",
   "execution_count": null,
   "id": "33c76870",
   "metadata": {},
   "outputs": [],
   "source": [
    "import pathlib\n",
    "\n",
    "DIR = \"/Users/ilja/School/TQDT33/code/data/kitti/motionbev/residual-polar-sequential-480-360/08/residual_images\"\n",
    "p = pathlib.Path(DIR)\n",
    "\n",
    "shapes = [np.load(file_path).shape for file_path in p.glob(\"*.npy\")]\n",
    "unique_shapes = set(shapes)\n",
    "\n",
    "print(f\"Unique shapes: {len(unique_shapes)}, all shapes: {len(shapes)}\")"
   ]
  },
  {
   "cell_type": "markdown",
   "id": "b938204b",
   "metadata": {},
   "source": [
    "# See size of dynablox ground truth"
   ]
  },
  {
   "cell_type": "code",
   "execution_count": null,
   "id": "5538c67f",
   "metadata": {},
   "outputs": [],
   "source": [
    "import pandas as pd\n",
    "\n",
    "df = pd.read_csv(\"/Volumes/thesis/data/dynablox/DOALS/station/sequence_1/indices.csv\")\n",
    "\n",
    "print(df.shape)"
   ]
  },
  {
   "cell_type": "markdown",
   "id": "04166237",
   "metadata": {},
   "source": [
    "Seems to be 9 rows, which corresponds to the fields of the scan (x, y, z, intencity etc)"
   ]
  }
 ],
 "metadata": {
  "kernelspec": {
   "display_name": "Python 3 (ipykernel)",
   "language": "python",
   "name": "python3"
  },
  "language_info": {
   "codemirror_mode": {
    "name": "ipython",
    "version": 3
   },
   "file_extension": ".py",
   "mimetype": "text/x-python",
   "name": "python",
   "nbconvert_exporter": "python",
   "pygments_lexer": "ipython3",
   "version": "3.12.1"
  }
 },
 "nbformat": 4,
 "nbformat_minor": 5
}
