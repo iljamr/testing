{
 "cells": [
  {
   "cell_type": "markdown",
   "metadata": {},
   "source": [
    "# Read and Process PCD"
   ]
  },
  {
   "cell_type": "code",
   "execution_count": 5,
   "metadata": {},
   "outputs": [
    {
     "name": "stdout",
     "output_type": "stream",
     "text": [
      "PointCloud on CPU:0 [18279374 points (Float32)].\n",
      "Attributes: reflectivity (dtype = UInt16, shape = {18279374, 1}), intensity (dtype = Float32, shape = {18279374, 1}), scan_number (dtype = UInt16, shape = {18279374, 1}), ring (dtype = UInt16, shape = {18279374, 1}), time (dtype = Float64, shape = {18279374, 1}), v_z (dtype = Float32, shape = {18279374, 1}), noise (dtype = UInt16, shape = {18279374, 1}), range (dtype = UInt32, shape = {18279374, 1}), v_x (dtype = Float32, shape = {18279374, 1}), v_y (dtype = Float32, shape = {18279374, 1}), label (dtype = Int32, shape = {18279374, 1}).\n"
     ]
    }
   ],
   "source": [
    "import open3d as o3d\n",
    "\n",
    "\n",
    "def iterate_pcd_file(file_path):\n",
    "    pcd = o3d.io.read_point_cloud(file_path)\n",
    "\n",
    "    # Iterate over each point\n",
    "    for x, y, z in pcd.points:\n",
    "        print(f\"Point: ({x}, {y}, {z})\")\n",
    "\n",
    "\n",
    "# Provide the path to your PCD file\n",
    "pcd_file_path = \"/Users/ilja/Downloads/rev5/2023-12-13-15-35-23_filtered.pcd\"\n",
    "iterate_pcd_file(pcd_file_path)"
   ]
  }
 ],
 "metadata": {
  "kernelspec": {
   "display_name": "yet-another",
   "language": "python",
   "name": "python3"
  },
  "language_info": {
   "codemirror_mode": {
    "name": "ipython",
    "version": 3
   },
   "file_extension": ".py",
   "mimetype": "text/x-python",
   "name": "python",
   "nbconvert_exporter": "python",
   "pygments_lexer": "ipython3",
   "version": "3.10.13"
  }
 },
 "nbformat": 4,
 "nbformat_minor": 2
}
