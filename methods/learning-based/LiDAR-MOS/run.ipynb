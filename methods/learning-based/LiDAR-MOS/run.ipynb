{
 "cells": [
  {
   "cell_type": "code",
   "execution_count": 4,
   "metadata": {},
   "outputs": [
    {
     "name": "stdout",
     "output_type": "stream",
     "text": [
      "BASE_DATA_PATH: /home/edgelab/storage\n"
     ]
    }
   ],
   "source": [
    "import os\n",
    "import pathlib\n",
    "import yaml\n",
    "\n",
    "BASE_DATA_PATH = pathlib.Path(os.environ['DATA_PATH'])\n",
    "print(f\"BASE_DATA_PATH: {BASE_DATA_PATH}\")\n",
    "\n",
    "config = yaml.safe_load(open(\"config/data_preparing.yaml\"))\n",
    "\n",
    "%run utils/gen_residual_images.py"
   ]
  }
 ],
 "metadata": {
  "kernelspec": {
   "display_name": "base",
   "language": "python",
   "name": "python3"
  },
  "language_info": {
   "codemirror_mode": {
    "name": "ipython",
    "version": 3
   },
   "file_extension": ".py",
   "mimetype": "text/x-python",
   "name": "python",
   "nbconvert_exporter": "python",
   "pygments_lexer": "ipython3",
   "version": "3.10.11"
  }
 },
 "nbformat": 4,
 "nbformat_minor": 2
}
