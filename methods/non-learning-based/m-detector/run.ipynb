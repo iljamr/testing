{
 "cells": [
  {
   "cell_type": "markdown",
   "metadata": {},
   "source": [
    "# M-Detector\n",
    "## Validate File Structure\n",
    "The file structure according to the documentation:\n",
    "\n",
    "```\n",
    "├── XXX (dataset name)\n",
    "│   ├── bags\n",
    "│   │   ├── XXX_0000.bag\n",
    "│   │   ├── ...\n",
    "│   ├── sequences\n",
    "│   │   ├── 0000\n",
    "│   │   │   ├── labels\n",
    "│   │   │   ├── predictionsx_origin (results in point-out mode with xth parameter file)\n",
    "│   │   │   ├── predictionsx (in frame-out mode with xth parameter file)\n",
    "│   │   │   ├── ...\n",
    "│   │   ├── ...\n",
    "├── ...\n",
    "```"
   ]
  },
  {
   "cell_type": "code",
   "execution_count": 1,
   "metadata": {},
   "outputs": [
    {
     "name": "stdout",
     "output_type": "stream",
     "text": [
      "\n",
      "$ Operating System : Darwin\n",
      "$ Path : /home/vscode/data/kitti/kittibags\n",
      "    \n",
      "*************** Directory Tree ***************\n",
      "\n",
      "kittibags\n",
      "Exception Occurred! Failed to Generate Tree:: [Errno 2] No such file or directory: '/home/vscode/data/kitti/kittibags'\n"
     ]
    }
   ],
   "source": [
    "import directory_tree\n",
    "import pathlib\n",
    "\n",
    "BAG_DIR = pathlib.Path(\"/home/vscode/data/kitti/kittibags\")\n",
    "\n",
    "ignore = [x.name for x in BAG_DIR.glob(\"*\") if x.name.endswith(\".zip\")]\n",
    "\n",
    "directory_tree.display_tree(\n",
    "    \"/home/vscode/data/kitti/kittibags/\", max_depth=2, header=True, ignore_list=ignore\n",
    ")"
   ]
  }
 ],
 "metadata": {
  "kernelspec": {
   "display_name": "Python 3",
   "language": "python",
   "name": "python3"
  },
  "language_info": {
   "codemirror_mode": {
    "name": "ipython",
    "version": 3
   },
   "file_extension": ".py",
   "mimetype": "text/x-python",
   "name": "python",
   "nbconvert_exporter": "python",
   "pygments_lexer": "ipython3",
   "version": "3.11.8"
  }
 },
 "nbformat": 4,
 "nbformat_minor": 2
}
